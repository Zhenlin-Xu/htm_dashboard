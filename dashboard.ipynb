{
 "cells": [
  {
   "cell_type": "markdown",
   "id": "d8b33015-4b59-4f3e-a3cf-07a47a46f8dc",
   "metadata": {},
   "source": [
    "# HTM Dashboard\n",
    "\n",
    "----"
   ]
  },
  {
   "cell_type": "markdown",
   "id": "91b7078a-4e67-49c5-9fc0-58683002f6da",
   "metadata": {},
   "source": [
    "## import "
   ]
  },
  {
   "cell_type": "code",
   "execution_count": 14,
   "id": "22454573-67e4-44af-97b2-b2538782bc37",
   "metadata": {},
   "outputs": [],
   "source": [
    "import pandas as pd\n",
    "import plotly.graph_objects as go\n",
    "\n",
    "import dash\n",
    "from dash import html\n",
    "from dash import dcc\n",
    "import dash_bootstrap_components as dbc\n",
    "from dash.dependencies import Input, Output\n",
    "import dash_table"
   ]
  },
  {
   "cell_type": "code",
   "execution_count": 15,
   "id": "aa0001f5-b306-4089-86fb-2d8d87c11e1a",
   "metadata": {},
   "outputs": [],
   "source": [
    "app = dash.Dash(__name__, external_stylesheets=[dbc.themes.BOOTSTRAP])\n",
    "\n",
    "# 应用的布局\n",
    "app.layout = dbc.Container(fluid=True, children=[\n",
    "    dbc.Row([\n",
    "        dbc.Col(width=2, children=[\n",
    "            html.H2(\"HTM\", className=\"display-4\"),\n",
    "            dbc.Nav(\n",
    "                [\n",
    "                    dbc.NavLink(\"Overview\", href=\"/tab_overview\", active=\"exact\"),\n",
    "                    dbc.NavLink(\"Spatial Analysis\", href=\"/tab_spatial\", active=\"exact\",\n",
    "                               style={'whiteSpace': 'normal', 'wordWrap': 'break-word'}),\n",
    "                    dbc.NavLink(\"Temporal Analysis\", href=\"/tab_temporal\", active=\"exact\"),\n",
    "                ],\n",
    "                vertical=True,\n",
    "                pills=True,\n",
    "            ),\n",
    "        ]),\n",
    "        dbc.Col(width=10, children=[\n",
    "            # 主内容区域\n",
    "            # html.H2(\"Content\", className=\"display-4\"),\n",
    "            dcc.Location(id=\"url\"),\n",
    "            html.Div(children=[], id='tabs-content')\n",
    "        ])\n",
    "    ])\n",
    "])"
   ]
  },
  {
   "cell_type": "code",
   "execution_count": 16,
   "id": "a85e97ad-c81d-4aa8-b2fb-eb84f65794df",
   "metadata": {},
   "outputs": [],
   "source": [
    "# speed_df = pd.read_csv(\"./dataset/\")"
   ]
  },
  {
   "cell_type": "code",
   "execution_count": 17,
   "id": "c7bc2de3-3423-428b-8207-613439d458d9",
   "metadata": {},
   "outputs": [],
   "source": [
    "# 回调函数来更新内容区域\n",
    "@app.callback(Output('tabs-content', 'children'),\n",
    "              [Input('url', 'pathname')])\n",
    "def render_content(pathname):\n",
    "    if pathname == \"/tab_overview\":\n",
    "        cards_info = [\n",
    "                {'title': 'Card 1', 'content': 'Content 1'},\n",
    "                {'title': 'Card 2', 'content': 'Content 2'},\n",
    "                {'title': 'Card 3', 'content': 'Content 3'},\n",
    "        ]\n",
    "        cards_width = [2,2,3]\n",
    "        # 使用列表推导式创建多个卡片组件\n",
    "        cards = [\n",
    "            dbc.Card(\n",
    "                dbc.CardBody([\n",
    "                    html.H4(card_info['title'], className=\"card-title\"),\n",
    "                    html.P(card_info['content'], className=\"card-text\"),\n",
    "                ])\n",
    "            )\n",
    "            for card_info in cards_info\n",
    "        ]\n",
    "\n",
    "        df = pd.DataFrame({\n",
    "            'Column 1': ['Row 1', 'Row 2', 'Row 3','Row 1', 'Row 2', 'Row 3','Row 1', 'Row 2', 'Row 3'],\n",
    "            'Column 2': [10, 20, 30, 10, 20, 30, 10, 20, 30],\n",
    "            'Column 3': [1.1, 2.2, 3.3, 1.1, 2.2, 3.3, 1.1, 2.2, 3.3]\n",
    "        })\n",
    "        \n",
    "        return dbc.Container([\n",
    "            html.H3('Overview'),\n",
    "            dbc.Row(children=[\n",
    "                dbc.Col(card, width=cards_width[idx]) for idx, card in enumerate(cards)\n",
    "            ]),\n",
    "            dbc.Row(children=[\n",
    "                dbc.Col(dcc.Graph(), width=5),\n",
    "                dbc.Col(dash_table.DataTable(\n",
    "                    id='table',\n",
    "                    columns=[{\"name\": i, \"id\": i} for i in df.columns],\n",
    "                    data=df.to_dict('records'),\n",
    "                    # 添加一些简单的表格样式\n",
    "                    style_cell={'textAlign': 'left'},\n",
    "                    style_header={\n",
    "                        'backgroundColor': 'white',\n",
    "                        'fontWeight': 'bold'\n",
    "                    },\n",
    "                    style_data_conditional=[\n",
    "                        {\n",
    "                            'if': {'row_index': 'odd'},\n",
    "                            'backgroundColor': 'rgb(248, 248, 248)'\n",
    "                        }\n",
    "                    ]\n",
    "            ))])\n",
    "        ])\n",
    "    elif pathname == \"/tab_spatial\":\n",
    "        df = pd.DataFrame({\n",
    "            'Column 1': ['Row 1', 'Row 2', 'Row 3','Row 1', 'Row 2', 'Row 3','Row 1', 'Row 2', 'Row 3'],\n",
    "            'Column 2': [10, 20, 30, 10, 20, 30, 10, 20, 30],\n",
    "            'Column 3': [1.1, 2.2, 3.3, 1.1, 2.2, 3.3, 1.1, 2.2, 3.3]\n",
    "        })\n",
    "        return dbc.Container([\n",
    "            html.H3('Spatial analysis'),\n",
    "            dbc.Row(children=[\n",
    "                dbc.Col(dcc.Graph(), width=5),\n",
    "                dbc.Col(dash_table.DataTable(\n",
    "                    id='table',\n",
    "                    columns=[{\"name\": i, \"id\": i} for i in df.columns],\n",
    "                    data=df.to_dict('records'),\n",
    "                    # 添加一些简单的表格样式\n",
    "                    style_cell={'textAlign': 'left'},\n",
    "                    style_header={\n",
    "                        'backgroundColor': 'white',\n",
    "                        'fontWeight': 'bold'\n",
    "                    },\n",
    "                    style_data_conditional=[\n",
    "                        {\n",
    "                            'if': {'row_index': 'odd'},\n",
    "                            'backgroundColor': 'rgb(248, 248, 248)'\n",
    "                        }\n",
    "                    ]))\n",
    "            ])\n",
    "        ])\n",
    "    elif pathname == \"/tab_temporal\":\n",
    "        return html.Div([\n",
    "            html.H3('Temporal analysis'),\n",
    "            \n",
    "        ])\n",
    "    else:\n",
    "        return html.Div([\n",
    "            html.H3('Overview'),\n",
    "        ])"
   ]
  },
  {
   "cell_type": "code",
   "execution_count": 18,
   "id": "893dcd7c-beb0-44e7-9e8e-1f48a487bd41",
   "metadata": {},
   "outputs": [
    {
     "data": {
      "text/html": [
       "\n",
       "        <iframe\n",
       "            width=\"100%\"\n",
       "            height=\"650\"\n",
       "            src=\"http://127.0.0.1:8050/\"\n",
       "            frameborder=\"0\"\n",
       "            allowfullscreen\n",
       "            \n",
       "        ></iframe>\n",
       "        "
      ],
      "text/plain": [
       "<IPython.lib.display.IFrame at 0x26413cd5000>"
      ]
     },
     "metadata": {},
     "output_type": "display_data"
    }
   ],
   "source": [
    "if __name__ == '__main__':\n",
    "    app.run_server(mode=\"external\", debug=True)"
   ]
  },
  {
   "cell_type": "code",
   "execution_count": null,
   "id": "735110c8-5270-45d1-9352-009f0b2e17ac",
   "metadata": {},
   "outputs": [],
   "source": []
  }
 ],
 "metadata": {
  "kernelspec": {
   "display_name": "Python 3 (ipykernel)",
   "language": "python",
   "name": "python3"
  },
  "language_info": {
   "codemirror_mode": {
    "name": "ipython",
    "version": 3
   },
   "file_extension": ".py",
   "mimetype": "text/x-python",
   "name": "python",
   "nbconvert_exporter": "python",
   "pygments_lexer": "ipython3",
   "version": "3.10.13"
  }
 },
 "nbformat": 4,
 "nbformat_minor": 5
}
